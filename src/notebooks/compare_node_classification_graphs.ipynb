{
 "cells": [
  {
   "cell_type": "code",
   "execution_count": null,
   "id": "27729114",
   "metadata": {},
   "outputs": [],
   "source": [
    "import logging\n",
    "import os\n",
    "import sys\n",
    "\n",
    "import pandas as pd\n",
    "\n",
    "# Generator imports\n",
    "from graph_world.generators.cabam_simulator import GenerateCABAMGraphWithFeatures\n",
    "from graph_world.generators.sbm_simulator import GenerateStochasticBlockModelWithFeatures, MatchType, MakePi, MakeDegrees, MakePropMat"
   ]
  },
  {
   "cell_type": "code",
   "execution_count": null,
   "id": "4f7d53b4",
   "metadata": {},
   "outputs": [],
   "source": [
    "N = 512\n",
    "M = 2\n",
    "NUM_CLUSTERS = 4\n",
    "SLOPE = 0.5\n",
    "FEATURE_DIM = 16\n",
    "EDGE_DIM = 4\n",
    "INTER_LINK_STRENGTH = 0.15\n",
    "P2Q = 16.0\n",
    "POWER_EXPONENT = 2.0"
   ]
  },
  {
   "cell_type": "code",
   "execution_count": null,
   "id": "cf2a567f",
   "metadata": {},
   "outputs": [],
   "source": [
    "cabam_graph = GenerateCABAMGraphWithFeatures(\n",
    "    n=N,\n",
    "    m=M,\n",
    "    inter_link_strength=INTER_LINK_STRENGTH,\n",
    "    pi=MakePi(NUM_CLUSTERS, SLOPE),\n",
    "    assortativity_type=1,\n",
    "    temperature=0.5,\n",
    "    feature_center_distance=1.0,\n",
    "    feature_dim=FEATURE_DIM,\n",
    "    num_feature_groups=NUM_CLUSTERS,\n",
    "    feature_group_match_type=MatchType.GROUPED,\n",
    "    feature_cluster_variance=1.0,\n",
    "    edge_feature_dim=EDGE_DIM,\n",
    "    edge_center_distance=0.0,\n",
    "    edge_cluster_variance=1.0,\n",
    "    normalize_features=True)\n",
    "\n",
    "sbm_graph = GenerateStochasticBlockModelWithFeatures(\n",
    "    num_vertices=N,\n",
    "    num_edges=N*5,\n",
    "    pi=MakePi(NUM_CLUSTERS, SLOPE),\n",
    "    prop_mat=MakePropMat(NUM_CLUSTERS, P2Q),\n",
    "    out_degs=MakeDegrees(POWER_EXPONENT, M, N),\n",
    "    feature_center_distance=1.0,\n",
    "    feature_dim=FEATURE_DIM,\n",
    "    num_feature_groups=1,\n",
    "    feature_group_match_type=MatchType.GROUPED,\n",
    "    feature_cluster_variance=1.0,\n",
    "    edge_feature_dim=EDGE_DIM,\n",
    "    edge_center_distance=0.0,\n",
    "    edge_cluster_variance=1.0,\n",
    "    normalize_features=True)"
   ]
  },
  {
   "cell_type": "code",
   "execution_count": null,
   "id": "7c0456de",
   "metadata": {},
   "outputs": [],
   "source": [
    "import networkx as nx\n",
    "import matplotlib.pyplot as plt\n",
    "\n",
    "colors = ['green', 'red', 'blue', 'orange', 'purple', 'yellow', 'black', 'cyan', 'pink', 'magenta']\n",
    "\n",
    "def gt_to_nx(gt_graph, labels):\n",
    "    nx_graph = nx.Graph()\n",
    "    edge_list = [(int(e.source()), int(e.target())) for e in gt_graph.edges()]\n",
    "    nx_graph.add_edges_from(edge_list)\n",
    "    nx.set_node_attributes(nx_graph, {i: group for i, group in enumerate(labels)},\n",
    "                           \"group\")\n",
    "    return nx_graph\n",
    "\n",
    "def plot_dataset(dataset):\n",
    "    Gnx = gt_to_nx(dataset.graph, dataset.graph_memberships)\n",
    "    Gnx = nx.algorithms.k_core(Gnx, 2)\n",
    "    Gc = max(nx.algorithms.connected_components(Gnx), key=len)\n",
    "    Gnx.remove_nodes_from([n for n in Gnx if n not in Gc])\n",
    "    fig, ax = plt.subplots(figsize=(5,5))\n",
    "    colormap = []\n",
    "    for v in Gnx.nodes(data=True):\n",
    "      colormap.append(colors[v[1]['group']])\n",
    "    nx.draw(Gnx, pos=nx.spring_layout(Gnx), node_color=colormap, with_labels=False,\n",
    "            node_size=40)"
   ]
  },
  {
   "cell_type": "code",
   "execution_count": null,
   "id": "23873130",
   "metadata": {},
   "outputs": [],
   "source": [
    "plot_dataset(sbm_graph)\n"
   ]
  },
  {
   "cell_type": "code",
   "execution_count": null,
   "id": "c1f5f96b",
   "metadata": {},
   "outputs": [],
   "source": [
    "plot_dataset(cabam_graph)"
   ]
  },
  {
   "cell_type": "code",
   "execution_count": null,
   "id": "22755e93",
   "metadata": {},
   "outputs": [],
   "source": [
    "from collections import Counter\n",
    "from matplotlib import pyplot as plot\n",
    "\n",
    "def plot_power_law(dataset):\n",
    "    dist = dataset.graph.get_out_degrees(list(dataset.graph.vertices()))\n",
    "    ctr = Counter([int(i) for i in dist])\n",
    "    degs = sorted(ctr.items())\n",
    "    plt.loglog([deg for (deg, ct) in degs], \n",
    "               [ct for (deg, ct) in degs])\n",
    "    plt.xlabel('Degree', fontsize=16)\n",
    "    plt.ylabel('Count', fontsize=16)\n",
    "    plt.legend()\n",
    "    plt.show()"
   ]
  },
  {
   "cell_type": "code",
   "execution_count": null,
   "id": "33e31b1b",
   "metadata": {},
   "outputs": [],
   "source": [
    "import numpy as np\n",
    "np.mean(sbm_graph.graph.get_out_degrees(list(sbm_graph.graph.vertices())))"
   ]
  },
  {
   "cell_type": "code",
   "execution_count": null,
   "id": "8e15b230",
   "metadata": {},
   "outputs": [],
   "source": [
    "cabam_graph.graph.get_out_degrees(list(cabam_graph.graph.vertices()))"
   ]
  },
  {
   "cell_type": "code",
   "execution_count": null,
   "id": "1149d45b",
   "metadata": {},
   "outputs": [],
   "source": [
    "plot_power_law(sbm_graph)"
   ]
  },
  {
   "cell_type": "code",
   "execution_count": null,
   "id": "333137f4",
   "metadata": {},
   "outputs": [],
   "source": [
    "plot_power_law(cabam_graph)"
   ]
  },
  {
   "cell_type": "code",
   "execution_count": null,
   "id": "f461ad29",
   "metadata": {},
   "outputs": [],
   "source": [
    "def estimate_exponent(dataset):\n",
    "    offset = 0.01\n",
    "    dist = dataset.graph.get_out_degrees(list(dataset.graph.vertices()))    \n",
    "    min_val = np.min(dist)\n",
    "    return 1 + len(dist) / np.sum([np.log((x + offset) / (min_val + offset)) for x in dist])"
   ]
  },
  {
   "cell_type": "code",
   "execution_count": null,
   "id": "10ebce41",
   "metadata": {},
   "outputs": [],
   "source": [
    "estimate_exponent(sbm_graph)"
   ]
  },
  {
   "cell_type": "code",
   "execution_count": null,
   "id": "fe83cce9",
   "metadata": {},
   "outputs": [],
   "source": [
    "estimate_exponent(cabam_graph)"
   ]
  }
 ],
 "metadata": {
  "kernelspec": {
   "display_name": "Python 3",
   "language": "python",
   "name": "python3"
  },
  "language_info": {
   "codemirror_mode": {
    "name": "ipython",
    "version": 3
   },
   "file_extension": ".py",
   "mimetype": "text/x-python",
   "name": "python",
   "nbconvert_exporter": "python",
   "pygments_lexer": "ipython3",
   "version": "3.6.9"
  }
 },
 "nbformat": 4,
 "nbformat_minor": 5
}
